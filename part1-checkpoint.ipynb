{
 "cells": [
  {
   "cell_type": "markdown",
   "metadata": {
    "nbgrader": {
     "grade": false,
     "grade_id": "cell-81740ad10bcffdd8",
     "locked": true,
     "schema_version": 1,
     "solution": false
    }
   },
   "source": [
    "# Part 1 of 2: Processing an HTML file\n",
    "\n",
    "One of the richest sources of information is [the Web](http://www.computerhistory.org/revolution/networking/19/314)! In this notebook, we ask you to use string processing and regular expressions to mine a web page, which is stored in HTML format."
   ]
  },
  {
   "cell_type": "markdown",
   "metadata": {
    "nbgrader": {
     "grade": false,
     "grade_id": "cell-e1821fbeefa0e2c2",
     "locked": true,
     "schema_version": 1,
     "solution": false
    }
   },
   "source": [
    "**The data: Yelp! reviews.** The data you will work with is a snapshot of a recent search on the [Yelp! site](https://yelp.com) for the best fried chicken restaurants in Atlanta. That snapshot is hosted here: https://cse6040.gatech.edu/datasets/yelp-example\n",
    "\n",
    "If you go ahead and open that site, you'll see that it contains a ranked list of places:\n",
    "\n",
    "![Top 10 Fried Chicken Spots in ATL as of September 12, 2017](https://cse6040.gatech.edu/datasets/yelp-example/ranked-list-snapshot.png)"
   ]
  },
  {
   "cell_type": "markdown",
   "metadata": {
    "nbgrader": {
     "grade": false,
     "grade_id": "cell-fe765896f1d25066",
     "locked": true,
     "schema_version": 1,
     "solution": false
    }
   },
   "source": [
    "**Your task.** In this part of this assignment, we'd like you to write some code to extract this list."
   ]
  },
  {
   "cell_type": "markdown",
   "metadata": {
    "nbgrader": {
     "grade": false,
     "grade_id": "cell-95c9a0ef4d1838e1",
     "locked": true,
     "schema_version": 1,
     "solution": false
    }
   },
   "source": [
    "## Getting the data\n",
    "\n",
    "First things first: you need an HTML file. The following Python code will download a particular web page that we've prepared for this exercise and store it locally in a file.\n",
    "\n",
    "> If the file exists, this command will not overwrite it. By not doing so, we can reduce accesses to the server that hosts the file. Also, if an error occurs during the download, this cell may report that the downloaded file is corrupt; in that case, you should try re-running the cell."
   ]
  },
  {
   "cell_type": "code",
   "execution_count": 15,
   "metadata": {
    "nbgrader": {
     "grade": false,
     "grade_id": "cell-af1ae6df64a1fd40",
     "locked": true,
     "schema_version": 1,
     "solution": false
    }
   },
   "outputs": [
    {
     "name": "stdout",
     "output_type": "stream",
     "text": [
      "'yelp.htm' is ready!\n"
     ]
    }
   ],
   "source": [
    "import requests\n",
    "import os\n",
    "import hashlib\n",
    "\n",
    "if os.path.exists('.voc'):\n",
    "    data_url = 'https://cse6040.gatech.edu/datasets/yelp-example/yelp.htm'\n",
    "else:\n",
    "    data_url = 'https://github.com/cse6040/labs-fa17/raw/master/datasets/yelp.htm'\n",
    "\n",
    "if not os.path.exists('yelp.htm'):\n",
    "    print(\"Downloading: {} ...\".format(data_url))\n",
    "    r = requests.get(data_url)\n",
    "    with open('yelp.htm', 'w', encoding=r.encoding) as f:\n",
    "        f.write(r.text)\n",
    "\n",
    "with open('yelp.htm', 'r', encoding='utf-8') as f:\n",
    "    yelp_html = f.read().encode(encoding='utf-8')\n",
    "    checksum = hashlib.md5(yelp_html).hexdigest()\n",
    "    assert checksum == \"4a74a0ee9cefee773e76a22a52d45a8e\", \"Downloaded file has incorrect checksum!\"\n",
    "    \n",
    "print(\"'yelp.htm' is ready!\")"
   ]
  },
  {
   "cell_type": "markdown",
   "metadata": {
    "nbgrader": {
     "grade": false,
     "grade_id": "cell-afee39f0b7aee426",
     "locked": true,
     "schema_version": 1,
     "solution": false
    }
   },
   "source": [
    "**Viewing the raw HTML in your web browser.** The file you just downloaded is the raw HTML version of the data described previously. Before moving on, you should go back to that site and use your web browser to view the HTML source for the web page. Do that now to get an idea of what is in that file.\n",
    "\n",
    "> If you don't know how to view the page source in your browser, try the instructions on [this site](http://www.wikihow.com/View-Source-Code)."
   ]
  },
  {
   "cell_type": "markdown",
   "metadata": {
    "nbgrader": {
     "grade": false,
     "grade_id": "cell-993d633285178cf8",
     "locked": true,
     "schema_version": 1,
     "solution": false
    }
   },
   "source": [
    "**Reading the HTML file into a Python string.** Let's also open the file in Python and read its contents into a string named, `yelp_html`."
   ]
  },
  {
   "cell_type": "code",
   "execution_count": 16,
   "metadata": {},
   "outputs": [
    {
     "name": "stdout",
     "output_type": "stream",
     "text": [
      "*** type(yelp_html) == <class 'str'> ***\n",
      "*** Contents (first 1000 characters) ***\n",
      "<!DOCTYPE html>\n",
      "<!-- saved from url=(0079)https://www.yelp.com/search?find_desc=fried+chicken&find_loc=Atlanta%2C+GA&ns=1 -->\n",
      "<html xmlns:fb=\"http://www.facebook.com/2008/fbml\" class=\"js gr__yelp_com\" lang=\"en\"><!--<![endif]--><head data-component-bound=\"true\"><meta http-equiv=\"Content-Type\" content=\"text/html; charset=UTF-8\"><link type=\"text/css\" rel=\"stylesheet\" href=\"./Best Fried chicken in Atlanta, GA - Yelp_files/css\"><style type=\"text/css\">.gm-style .gm-style-cc span,.gm-style .gm-style-cc a,.gm-style .gm-style-mtc div{font-size:10px}\n",
      "</style><style type=\"text/css\">@media print {  .gm-style .gmnoprint, .gmnoprint {    display:none  }}@media screen {  .gm-style .gmnoscreen, .gmnoscreen {    display:none  }}</style><style type=\"text/css\">.gm-style-pbc{transition:opacity ease-in-out;background-color:rgba(0,0,0,0.45);text-align:center}.gm-style-pbt{font-size:22px;color:white;font-family:Roboto,Arial,sans-serif;position:relative;margin:0;top:50%;-webkit-transform:translateY(-50%);-ms- ...\n"
     ]
    }
   ],
   "source": [
    "with open('yelp.htm', 'r', encoding='utf-8') as yelp_file:\n",
    "    yelp_html = yelp_file.read()\n",
    "    \n",
    "# Print first few hundred characters of this string:\n",
    "print(\"*** type(yelp_html) == {} ***\".format(type(yelp_html)))\n",
    "n = 1000\n",
    "print(\"*** Contents (first {} characters) ***\\n{} ...\".format(n, yelp_html[:n]))"
   ]
  },
  {
   "cell_type": "markdown",
   "metadata": {
    "nbgrader": {
     "grade": false,
     "grade_id": "cell-02895e5c5a7d18be",
     "locked": true,
     "schema_version": 1,
     "solution": false
    }
   },
   "source": [
    "Oy, what a mess! It will be great to have some code read and process the information contained within this file."
   ]
  },
  {
   "cell_type": "markdown",
   "metadata": {
    "nbgrader": {
     "grade": false,
     "grade_id": "cell-6481539b4054dbde",
     "locked": true,
     "schema_version": 1,
     "solution": false
    }
   },
   "source": [
    "## Exercise (5 points): Extracting the ranking\n",
    "\n",
    "Write some Python code to create a variable named `rankings`, which is a list of dictionaries set up as follows:\n",
    "\n",
    "* `rankings[i]` is a dictionary corresponding to the restaurant whose rank is `i+1`. For example, from the screenshot above, `rankings[0]` should be a dictionary with information about Gus's World Famous Fried Chicken.\n",
    "* Each dictionary, `rankings[i]`, should have these keys:\n",
    "    * `rankings[i]['name']`: The name of the restaurant, a string.\n",
    "    * `rankings[i]['stars']`: The star rating, as a string, e.g., `'4.5'`, `'4.0'`\n",
    "    * `rankings[i]['numrevs']`: The number of reviews, as an **integer.**\n",
    "    * `rankings[i]['price']`: The price range, as dollar signs, e.g., `'$'`, `'$$'`, `'$$$'`, or `'$$$$'`.\n",
    "    \n",
    "Of course, since the current topic is regular expressions, you might try to apply them (possibly combined with other string manipulation methods) find the particular patterns that yield the desired information."
   ]
  },
  {
   "cell_type": "code",
   "execution_count": 159,
   "metadata": {
    "nbgrader": {
     "grade": false,
     "grade_id": "rankings",
     "locked": false,
     "schema_version": 1,
     "solution": true
    },
    "scrolled": true
   },
   "outputs": [
    {
     "name": "stdout",
     "output_type": "stream",
     "text": [
      "[{'name': 'Gus’s World Famous Fried Chicken', 'price': '$$', 'stars': '4.0', 'numrevs': 549}, {'name': 'South City Kitchen - Midtown', 'price': '$$', 'stars': '4.5', 'numrevs': 1777}, {'name': 'Mary Mac’s Tea Room', 'price': '$$', 'stars': '4.0', 'numrevs': 2241}, {'name': 'Busy Bee Cafe', 'price': '$$', 'stars': '4.0', 'numrevs': 481}, {'name': 'Richards’ Southern Fried', 'price': '$$', 'stars': '4.0', 'numrevs': 108}, {'name': 'Greens &amp; Gravy', 'price': '$$', 'stars': '3.5', 'numrevs': 93}, {'name': 'Colonnade Restaurant', 'price': '$$', 'stars': '4.0', 'numrevs': 350}, {'name': 'South City Kitchen Buckhead', 'price': '$$', 'stars': '4.5', 'numrevs': 248}, {'name': 'Poor Calvin’s', 'price': '$$', 'stars': '4.5', 'numrevs': 1558}, {'name': 'Rock’s Chicken &amp; Fries', 'price': '$', 'stars': '4.0', 'numrevs': 67}]\n"
     ]
    }
   ],
   "source": [
    "#\n",
    "import re\n",
    "#from html.parser import HTMLParser \n",
    "from bs4 import BeautifulSoup\n",
    "soup = BeautifulSoup(yelp_html, 'html.parser')\n",
    "\n",
    "# get the NAMES OF RESTAURANTS to list, namelist\n",
    "#splat_yelp_hthree = re.compile(\"<h3 class=\\\"search-result-title\\\"\")\n",
    "#class MyHHtmlParser(HTMLParser):\n",
    "#    def handle_starttag('h3', [('class','search-result-title')])\n",
    "h_threes = []\n",
    "for tag in soup.find_all(re.compile(\"h3\")):\n",
    "    h_threes.append(tag)\n",
    "    #print(tag)\n",
    "#ir(BeautifulSoup)    \n",
    "\n",
    "#h_threes[3] #this one returns the element of h3 tag - the whole thing!! yah bitch fuck those regexs bc bs4 is better\n",
    "#for tagh in h_threes:\n",
    "#    soup.find_all(\"span\")\n",
    " \n",
    "    \n",
    "srts = soup.find_all(\"h3\", {\"class\": \"search-result-title\"}) #returns list of h3's (all not just indexed)\n",
    "isrts = list(soup.find_all(\"span\",{\"class\": \"indexed-biz-name\"})) #returns the indexed list i needed\n",
    "#inames = isrts.find(\"span\") # AttributeError: 'list' object has no attribute 'find'\n",
    "#print(inames, len(inames))\n",
    "namelist = []\n",
    "\n",
    "for item in isrts:\n",
    "    #print(item)\n",
    "    \n",
    "    namefin = re.compile(\"<span>.*</span>\")\n",
    "    nameloc = re.search(namefin, str(item))\n",
    "    #print(nameloc.group())\n",
    "    #prints like so: <span>Gus’s World Famous Fried Chicken</span>\n",
    "    #print(nameloc.group()[6:-7]) #prints like ya need it: Gus’s World Famous Fried Chicken\n",
    "    # so i need nameloc.group()[6:-7]\n",
    "    namelist.append(nameloc.group()[6:-7])\n",
    "# print(namelist) - list of the 10 names how you need them\n",
    "\n",
    "#\n",
    "#type(str(isrts[1]))\n",
    "\n",
    "# get the PRICE\n",
    "#print(srts)\n",
    "#pricers = soup.find_all(\"span\", {\"class\":\"business-attribute price-range\"})\n",
    "#print(pricers, len(pricers))\n",
    "\n",
    "ordlist = list(soup.find_all(\"li\", {\"class\":\"regular-search-result\"})) #returns what we're really looking for but all of it though.\n",
    "# print(ordlist,len(ordlist))\n",
    "pricelist = []\n",
    "for itemo in ordlist:\n",
    "    pricers = itemo.find_all(\"span\", {\"class\":\"business-attribute price-range\"})\n",
    "    pricefin = re.compile(\"-range\\\">.*</span>\")\n",
    "    priceloc = re.search(pricefin, str(itemo))\n",
    "    pricelist.append(priceloc.group()[8:-7])\n",
    "# print(pricelist)# - ['$$', '$$', '$$', '$$', '$$', '$$', '$$', '$$', '$$', '$']\n",
    "\n",
    "# get the STARS\n",
    "#print(len(ordlist))\n",
    "starlist = []\n",
    "starss = []\n",
    "for items in ordlist:\n",
    "    stars = items.find_all(\"div\", {\"class\": \"biz-rating biz-rating-large clearfix\"})[0]\n",
    "    #<div class=\"biz-rating biz-rating-large clearfix\">\n",
    "    #print(stars)\n",
    "    starss = str(stars).split()\n",
    "    starlist.append(starss[8][-3:])    \n",
    "#print(starlist)\n",
    "# get the NUMBER OF REVIEWS\n",
    "revlist = []\n",
    "revss = []\n",
    "for itemr in ordlist:\n",
    "    revs = itemr.find_all(\"span\", {\"class\": \"review-count rating-qualifier\"})[0]\n",
    "    #revfin = re.compile(\"-qualifier\\\">.*</span>\")\n",
    "    #revloc = re.search(revfin,str(revs)).\n",
    "    revss = str(revs).split()\n",
    "    if any('reviews' in s for s in revss):\n",
    "        revnum = int(revss[3])\n",
    "    revlist.append(revnum)\n",
    "    #print(revs)\n",
    "#print(str(revs[0]).split())    #['<span', 'class=\"review-count', 'rating-qualifier\">', '67', 'reviews', '</span>']\n",
    "#print(revlist) # [549, 1777, 2241, 481, 108, 93, 350, 248, 1558, 67]\n",
    "    #revlist.append(revloc.group()[6:-7])\n",
    "\n",
    "# combine lists into a dictionary\n",
    "yelp_keys = ['name','price','stars','numrevs']\n",
    "lrankings = {}\n",
    "rankings = []\n",
    "for idn in range(10):\n",
    "    nvlas = namelist[idn],pricelist[idn],starlist[idn],revlist[idn]\n",
    "    rankings.append(dict(zip(yelp_keys,nvlas)))\n",
    "#lrankings = list(rankings)    \n",
    "print(rankings)"
   ]
  },
  {
   "cell_type": "code",
   "execution_count": 160,
   "metadata": {
    "nbgrader": {
     "grade": true,
     "grade_id": "rankings_test",
     "locked": true,
     "points": 5,
     "schema_version": 1,
     "solution": false
    }
   },
   "outputs": [
    {
     "name": "stdout",
     "output_type": "stream",
     "text": [
      "=== Rankings ===\n",
      "1. Gus’s World Famous Fried Chicken ($$): 4.0 stars based on 549 reviews\n",
      "2. South City Kitchen - Midtown ($$): 4.5 stars based on 1777 reviews\n",
      "3. Mary Mac’s Tea Room ($$): 4.0 stars based on 2241 reviews\n",
      "4. Busy Bee Cafe ($$): 4.0 stars based on 481 reviews\n",
      "5. Richards’ Southern Fried ($$): 4.0 stars based on 108 reviews\n",
      "6. Greens &amp; Gravy ($$): 3.5 stars based on 93 reviews\n",
      "7. Colonnade Restaurant ($$): 4.0 stars based on 350 reviews\n",
      "8. South City Kitchen Buckhead ($$): 4.5 stars based on 248 reviews\n",
      "9. Poor Calvin’s ($$): 4.5 stars based on 1558 reviews\n",
      "10. Rock’s Chicken &amp; Fries ($): 4.0 stars based on 67 reviews\n",
      "\n",
      "(Passed!)\n"
     ]
    }
   ],
   "source": [
    "# Test cell: `rankings_test`\n",
    "\n",
    "assert type(rankings) is list, \"`rankings` must be a list\"\n",
    "assert all([type(r) is dict for r in rankings]), \"All `rankings[i]` must be dictionaries\"\n",
    "\n",
    "print(\"=== Rankings ===\")\n",
    "for i, r in enumerate(rankings):\n",
    "    print(\"{}. {} ({}): {} stars based on {} reviews\".format(i+1,\n",
    "                                                             r['name'],\n",
    "                                                             r['price'],\n",
    "                                                             r['stars'],\n",
    "                                                             r['numrevs']))\n",
    "\n",
    "assert rankings[0] == {'numrevs': 549, 'name': 'Gus’s World Famous Fried Chicken', 'stars': '4.0', 'price': '$$'}\n",
    "assert rankings[1] == {'numrevs': 1777, 'name': 'South City Kitchen - Midtown', 'stars': '4.5', 'price': '$$'}\n",
    "assert rankings[2] == {'numrevs': 2241, 'name': 'Mary Mac’s Tea Room', 'stars': '4.0', 'price': '$$'}\n",
    "assert rankings[3] == {'numrevs': 481, 'name': 'Busy Bee Cafe', 'stars': '4.0', 'price': '$$'}\n",
    "assert rankings[4] == {'numrevs': 108, 'name': 'Richards’ Southern Fried', 'stars': '4.0', 'price': '$$'}\n",
    "assert rankings[5] == {'numrevs': 93, 'name': 'Greens &amp; Gravy', 'stars': '3.5', 'price': '$$'}\n",
    "assert rankings[6] == {'numrevs': 350, 'name': 'Colonnade Restaurant', 'stars': '4.0', 'price': '$$'}\n",
    "assert rankings[7] == {'numrevs': 248, 'name': 'South City Kitchen Buckhead', 'stars': '4.5', 'price': '$$'}\n",
    "assert rankings[8] == {'numrevs': 1558, 'name': 'Poor Calvin’s', 'stars': '4.5', 'price': '$$'}\n",
    "assert rankings[9] == {'numrevs': 67, 'name': 'Rock’s Chicken &amp; Fries', 'stars': '4.0', 'price': '$'}\n",
    "\n",
    "print(\"\\n(Passed!)\")"
   ]
  },
  {
   "cell_type": "markdown",
   "metadata": {
    "collapsed": true,
    "nbgrader": {
     "grade": false,
     "grade_id": "cell-b3bde66e454dc063",
     "locked": true,
     "schema_version": 1,
     "solution": false
    }
   },
   "source": [
    "**Fin!** This cell marks the end of Part 1. Don't forget to save, restart and rerun all cells, and submit it. When you are done, proceed to Part 2."
   ]
  }
 ],
 "metadata": {
  "celltoolbar": "Create Assignment",
  "kernelspec": {
   "display_name": "Python 3",
   "language": "python",
   "name": "python3"
  },
  "language_info": {
   "codemirror_mode": {
    "name": "ipython",
    "version": 3
   },
   "file_extension": ".py",
   "mimetype": "text/x-python",
   "name": "python",
   "nbconvert_exporter": "python",
   "pygments_lexer": "ipython3",
   "version": "3.6.5"
  }
 },
 "nbformat": 4,
 "nbformat_minor": 1
}
